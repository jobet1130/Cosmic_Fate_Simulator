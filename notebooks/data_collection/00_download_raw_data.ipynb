{
 "cells": [
  {
   "cell_type": "code",
   "execution_count": 56,
   "id": "e9833239",
   "metadata": {},
   "outputs": [
    {
     "name": "stdout",
     "output_type": "stream",
     "text": [
      "Requirement already satisfied: ipywidgets in d:\\data science\\cosmic_fate_simulator\\.venv\\lib\\site-packages (8.1.7)\n",
      "Requirement already satisfied: comm>=0.1.3 in d:\\data science\\cosmic_fate_simulator\\.venv\\lib\\site-packages (from ipywidgets) (0.2.3)\n",
      "Requirement already satisfied: ipython>=6.1.0 in d:\\data science\\cosmic_fate_simulator\\.venv\\lib\\site-packages (from ipywidgets) (9.5.0)\n",
      "Requirement already satisfied: traitlets>=4.3.1 in d:\\data science\\cosmic_fate_simulator\\.venv\\lib\\site-packages (from ipywidgets) (5.14.3)\n",
      "Requirement already satisfied: widgetsnbextension~=4.0.14 in d:\\data science\\cosmic_fate_simulator\\.venv\\lib\\site-packages (from ipywidgets) (4.0.14)\n",
      "Requirement already satisfied: jupyterlab_widgets~=3.0.15 in d:\\data science\\cosmic_fate_simulator\\.venv\\lib\\site-packages (from ipywidgets) (3.0.15)\n",
      "Requirement already satisfied: colorama in d:\\data science\\cosmic_fate_simulator\\.venv\\lib\\site-packages (from ipython>=6.1.0->ipywidgets) (0.4.6)\n",
      "Requirement already satisfied: decorator in d:\\data science\\cosmic_fate_simulator\\.venv\\lib\\site-packages (from ipython>=6.1.0->ipywidgets) (5.2.1)\n",
      "Requirement already satisfied: ipython-pygments-lexers in d:\\data science\\cosmic_fate_simulator\\.venv\\lib\\site-packages (from ipython>=6.1.0->ipywidgets) (1.1.1)\n",
      "Requirement already satisfied: jedi>=0.16 in d:\\data science\\cosmic_fate_simulator\\.venv\\lib\\site-packages (from ipython>=6.1.0->ipywidgets) (0.19.2)\n",
      "Requirement already satisfied: matplotlib-inline in d:\\data science\\cosmic_fate_simulator\\.venv\\lib\\site-packages (from ipython>=6.1.0->ipywidgets) (0.1.7)\n",
      "Requirement already satisfied: prompt_toolkit<3.1.0,>=3.0.41 in d:\\data science\\cosmic_fate_simulator\\.venv\\lib\\site-packages (from ipython>=6.1.0->ipywidgets) (3.0.52)\n",
      "Requirement already satisfied: pygments>=2.4.0 in d:\\data science\\cosmic_fate_simulator\\.venv\\lib\\site-packages (from ipython>=6.1.0->ipywidgets) (2.19.2)\n",
      "Requirement already satisfied: stack_data in d:\\data science\\cosmic_fate_simulator\\.venv\\lib\\site-packages (from ipython>=6.1.0->ipywidgets) (0.6.3)\n",
      "Requirement already satisfied: parso<0.9.0,>=0.8.4 in d:\\data science\\cosmic_fate_simulator\\.venv\\lib\\site-packages (from jedi>=0.16->ipython>=6.1.0->ipywidgets) (0.8.5)\n",
      "Requirement already satisfied: wcwidth in d:\\data science\\cosmic_fate_simulator\\.venv\\lib\\site-packages (from prompt_toolkit<3.1.0,>=3.0.41->ipython>=6.1.0->ipywidgets) (0.2.13)\n",
      "Requirement already satisfied: executing>=1.2.0 in d:\\data science\\cosmic_fate_simulator\\.venv\\lib\\site-packages (from stack_data->ipython>=6.1.0->ipywidgets) (2.2.1)\n",
      "Requirement already satisfied: asttokens>=2.1.0 in d:\\data science\\cosmic_fate_simulator\\.venv\\lib\\site-packages (from stack_data->ipython>=6.1.0->ipywidgets) (3.0.0)\n",
      "Requirement already satisfied: pure-eval in d:\\data science\\cosmic_fate_simulator\\.venv\\lib\\site-packages (from stack_data->ipython>=6.1.0->ipywidgets) (0.2.3)\n"
     ]
    },
    {
     "name": "stderr",
     "output_type": "stream",
     "text": [
      "\n",
      "[notice] A new release of pip is available: 24.3.1 -> 25.2\n",
      "[notice] To update, run: python.exe -m pip install --upgrade pip\n",
      "usage: jupyter [-h] [--version] [--config-dir] [--data-dir] [--runtime-dir]\n",
      "               [--paths] [--json] [--debug]\n",
      "               [subcommand]\n",
      "\n",
      "Jupyter: Interactive Computing\n",
      "\n",
      "positional arguments:\n",
      "  subcommand     the subcommand to launch\n",
      "\n",
      "options:\n",
      "  -h, --help     show this help message and exit\n",
      "  --version      show the versions of core jupyter packages and exit\n",
      "  --config-dir   show Jupyter config dir\n",
      "  --data-dir     show Jupyter data dir\n",
      "  --runtime-dir  show Jupyter runtime dir\n",
      "  --paths        show all Jupyter paths. Add --json for machine-readable\n",
      "                 format.\n",
      "  --json         output paths as machine-readable json\n",
      "  --debug        output debug information about paths\n",
      "\n",
      "Available subcommands: console dejavu events execute kernel kernelspec lab\n",
      "labextension labhub migrate nbconvert notebook run server troubleshoot trust\n",
      "\n",
      "Jupyter command `jupyter-nbextension` not found.\n"
     ]
    }
   ],
   "source": [
    "!pip install ipywidgets\n",
    "!jupyter nbextension enable --py widgetsnbextension"
   ]
  },
  {
   "cell_type": "code",
   "execution_count": 57,
   "id": "6cd4a609",
   "metadata": {},
   "outputs": [],
   "source": [
    "import os\n",
    "import requests\n",
    "import pandas as pd\n",
    "from pathlib import Path\n",
    "from astropy.table import Table\n",
    "from astroquery.gaia import Gaia\n",
    "from astroquery.sdss import SDSS\n",
    "from astroquery.vizier import Vizier\n",
    "from tqdm.notebook import tqdm\n",
    "\n",
    "DATA_DIR = Path(\"../data/raw\")\n",
    "DATA_DIR.mkdir(parents=True, exist_ok=True)"
   ]
  },
  {
   "cell_type": "code",
   "execution_count": 58,
   "id": "172fa165",
   "metadata": {},
   "outputs": [],
   "source": [
    "import urllib3\n",
    "urllib3.disable_warnings(urllib3.exceptions.InsecureRequestWarning)"
   ]
  },
  {
   "cell_type": "code",
   "execution_count": 59,
   "id": "db6889b7",
   "metadata": {},
   "outputs": [],
   "source": [
    "def download_planck_cosmology():\n",
    "    \"\"\"Download Planck 2018 cosmological parameters.\"\"\"\n",
    "    print(\"Downloading Planck 2018 cosmological parameters...\")\n",
    "    url = \"https://pla.esac.esa.int/pla/aio/planckProducts.html?component=cosmo\"\n",
    "    try:\n",
    "        # This is a simplified example - actual implementation would parse the data\n",
    "        # For now, we'll create a sample dataset\n",
    "        data = {\n",
    "            \"Parameter\": [\"H0\", \"Omega_m\", \"Omega_Lambda\", \"Omega_b\", \"sigma_8\", \"n_s\"],\n",
    "            \"Value\": [67.36, 0.3153, 0.6847, 0.0493, 0.8111, 0.9649],\n",
    "            \"Error\": [0.54, 0.0073, 0.0073, 0.0006, 0.0060, 0.0042]\n",
    "        }\n",
    "        df = pd.DataFrame(data)\n",
    "        df.to_csv(DATA_DIR / \"planck_cosmology_2018.csv\", index=False)\n",
    "        print(\"✓ Planck cosmology data downloaded successfully\")\n",
    "    except Exception as e:\n",
    "        print(f\"Error downloading Planck data: {e}\")"
   ]
  },
  {
   "cell_type": "code",
   "execution_count": 60,
   "id": "8504f999",
   "metadata": {},
   "outputs": [],
   "source": [
    "def download_supernova_data():\n",
    "    \"\"\"Download Pantheon+ supernova data.\"\"\"\n",
    "    print(\"Downloading Pantheon+ supernova data...\")\n",
    "    url = \"https://github.com/PantheonPlusSH0ES/DataRelease/raw/main/Pantheon%2B_Data/4_DISTANCES_AND_COVAR/Pantheon%2BSH0ES.dat\"\n",
    "    try:\n",
    "        response = requests.get(url, verify=False)\n",
    "        response.raise_for_status()\n",
    "        with open(DATA_DIR / \"pantheon_plus_sh0es.dat\", \"wb\") as f:\n",
    "            f.write(response.content)\n",
    "        print(\"✓ Supernova data downloaded successfully\")\n",
    "    except Exception as e:\n",
    "        print(f\"Error downloading supernova data: {e}\")"
   ]
  },
  {
   "cell_type": "code",
   "execution_count": 61,
   "id": "ba8d8eab",
   "metadata": {},
   "outputs": [],
   "source": [
    "def download_sdss_spectra():\n",
    "    \"\"\"Download SDSS quasar spectra catalog using a reliable data source.\"\"\"\n",
    "    print(\"Downloading SDSS quasar catalog...\")\n",
    "    try:\n",
    "        # Using SDSS DR16Q quasar catalog (pre-made and reliable)\n",
    "        url = \"https://data.sdss.org/sas/dr16/eboss/qso/DR16Q/DR16Q_v4.fits\"\n",
    "        output_file = DATA_DIR / \"sdss_dr16q_quasars.fits\"\n",
    "        \n",
    "        # Download with progress\n",
    "        print(f\"Downloading from {url}...\")\n",
    "        response = requests.get(url, stream=True)\n",
    "        response.raise_for_status()\n",
    "        \n",
    "        # Save in chunks to handle large files\n",
    "        total_size = int(response.headers.get('content-length', 0))\n",
    "        block_size = 8192\n",
    "        progress_bar = tqdm(total=total_size, unit='iB', unit_scale=True)\n",
    "        \n",
    "        with open(output_file, 'wb') as f:\n",
    "            for chunk in response.iter_content(chunk_size=block_size):\n",
    "                progress_bar.update(len(chunk))\n",
    "                f.write(chunk)\n",
    "        progress_bar.close()\n",
    "        \n",
    "        if total_size != 0 and progress_bar.n != total_size:\n",
    "            print(\"ERROR: Something went wrong during download\")\n",
    "            return\n",
    "            \n",
    "        print(f\"✓ SDSS DR16Q quasar catalog downloaded successfully to {output_file}\")\n",
    "        \n",
    "    except Exception as e:\n",
    "        print(f\"Error downloading SDSS data: {str(e)}\")\n",
    "        print(\"You can manually download the catalog from:\")\n",
    "        print(\"https://data.sdss.org/sas/dr16/eboss/qso/DR16Q/\")"
   ]
  },
  {
   "cell_type": "code",
   "execution_count": 62,
   "id": "9e4eb39a",
   "metadata": {},
   "outputs": [],
   "source": [
    "def download_galaxy_redshift_survey():\n",
    "    \"\"\"Download 2dF Galaxy Redshift Survey data.\"\"\"\n",
    "    print(\"Downloading 2dF Galaxy Redshift Survey data...\")\n",
    "    try:\n",
    "        # Using VizieR to access 2dFGRS\n",
    "        Vizier.ROW_LIMIT = 10000\n",
    "        catalog = \"VII/250\"\n",
    "        result = Vizier.get_catalogs(catalog)\n",
    "        \n",
    "        if result:\n",
    "            result[0].write(DATA_DIR / \"2dfgrs_galaxies.fits\", format='fits', overwrite=True)\n",
    "            print(\"✓ 2dFGRS data downloaded successfully\")\n",
    "    except Exception as e:\n",
    "        print(f\"Error downloading 2dFGRS data: {e}\")"
   ]
  },
  {
   "cell_type": "code",
   "execution_count": 63,
   "id": "d2535b01",
   "metadata": {},
   "outputs": [
    {
     "name": "stdout",
     "output_type": "stream",
     "text": [
      "Starting data download...\n",
      "Downloading Planck 2018 cosmological parameters...\n",
      "✓ Planck cosmology data downloaded successfully\n",
      "Downloading Pantheon+ supernova data...\n",
      "✓ Supernova data downloaded successfully\n",
      "Downloading SDSS quasar catalog...\n",
      "Downloading from https://data.sdss.org/sas/dr16/eboss/qso/DR16Q/DR16Q_v4.fits...\n"
     ]
    },
    {
     "data": {
      "application/vnd.jupyter.widget-view+json": {
       "model_id": "c8581c988b8f452dbda5c2e05582e942",
       "version_major": 2,
       "version_minor": 0
      },
      "text/plain": [
       "  0%|          | 0.00/1.72G [00:00<?, ?iB/s]"
      ]
     },
     "metadata": {},
     "output_type": "display_data"
    },
    {
     "name": "stdout",
     "output_type": "stream",
     "text": [
      "✓ SDSS DR16Q quasar catalog downloaded successfully to ..\\data\\raw\\sdss_dr16q_quasars.fits\n",
      "Downloading 2dF Galaxy Redshift Survey data...\n",
      "✓ 2dFGRS data downloaded successfully\n",
      "\n",
      "All data downloads completed!\n"
     ]
    },
    {
     "name": "stderr",
     "output_type": "stream",
     "text": [
      "WARNING: VerifyWarning: Keyword name 'description' is greater than 8 characters or contains characters not allowed by the FITS standard; a HIERARCH card will be created. [astropy.io.fits.card]\n"
     ]
    }
   ],
   "source": [
    "def main():\n",
    "    \"\"\"Main function to download all datasets.\"\"\"\n",
    "    print(\"Starting data download...\")\n",
    "    \n",
    "    # Create data directory if it doesn't exist\n",
    "    DATA_DIR.mkdir(parents=True, exist_ok=True)\n",
    "    \n",
    "    # Download datasets\n",
    "    download_planck_cosmology()\n",
    "    download_supernova_data()\n",
    "    download_sdss_spectra()\n",
    "    download_galaxy_redshift_survey()\n",
    "    \n",
    "    print(\"\\nAll data downloads completed!\")\n",
    "\n",
    "if __name__ == \"__main__\":\n",
    "    main()"
   ]
  }
 ],
 "metadata": {
  "kernelspec": {
   "display_name": ".venv",
   "language": "python",
   "name": "python3"
  },
  "language_info": {
   "codemirror_mode": {
    "name": "ipython",
    "version": 3
   },
   "file_extension": ".py",
   "mimetype": "text/x-python",
   "name": "python",
   "nbconvert_exporter": "python",
   "pygments_lexer": "ipython3",
   "version": "3.13.2"
  }
 },
 "nbformat": 4,
 "nbformat_minor": 5
}
