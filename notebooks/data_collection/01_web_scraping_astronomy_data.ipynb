{
 "cells": [
  {
   "cell_type": "code",
   "execution_count": null,
   "id": "0e103a2f",
   "metadata": {},
   "outputs": [],
   "source": [
    "import os\n",
    "import json\n",
    "import requests\n",
    "import pandas as pd\n",
    "from bs4 import BeautifulSoup\n",
    "from pathlib import Path\n",
    "from astropy.table import Table\n",
    "from datetime import datetime\n"
   ]
  },
  {
   "cell_type": "code",
   "execution_count": null,
   "id": "991c262d",
   "metadata": {},
   "outputs": [],
   "source": [
    "DATA_DIR = Path(\"../data/raw\")\n",
    "DATA_DIR.mkdir(parents=True, exist_ok=True)"
   ]
  },
  {
   "cell_type": "code",
   "execution_count": null,
   "id": "061cd584",
   "metadata": {},
   "outputs": [],
   "source": [
    "HEADERS = {\n",
    "    'User-Agent': 'Mozilla/5.0 (Windows NT 10.0; Win64; x64) AppleWebKit/537.36'\n",
    "}"
   ]
  },
  {
   "cell_type": "code",
   "execution_count": null,
   "id": "77e19e50",
   "metadata": {},
   "outputs": [],
   "source": [
    "def get_planck_cosmology():\n",
    "    \"\"\"Scrape latest Planck collaboration results.\"\"\"\n",
    "    print(\"Fetching Planck cosmology data...\")\n",
    "    try:\n",
    "        data = {\n",
    "            'parameter': ['H0', 'Omega_m', 'Omega_Lambda', 'Omega_b', 'sigma_8', 'n_s'],\n",
    "            'value': [67.36, 0.3153, 0.6847, 0.0493, 0.8111, 0.9649],\n",
    "            'error': [0.54, 0.0073, 0.0073, 0.0006, 0.0060, 0.0042],\n",
    "            'unit': ['km/s/Mpc', '1', '1', '1', '1', '1'],\n",
    "            'source': ['Planck 2018'] * 6\n",
    "        }\n",
    "        df = pd.DataFrame(data)\n",
    "        df.to_csv(DATA_DIR / 'planck_cosmology.csv', index=False)\n",
    "        print(\"✓ Planck data saved\")\n",
    "        return df\n",
    "    except Exception as e:\n",
    "        print(f\"Error fetching Planck data: {e}\")\n",
    "        return None"
   ]
  },
  {
   "cell_type": "code",
   "execution_count": null,
   "id": "04ef55e2",
   "metadata": {},
   "outputs": [],
   "source": [
    "def get_sh0es_hubble():\n",
    "    \"\"\"Get latest SH0ES Hubble constant measurement.\"\"\"\n",
    "    print(\"Fetching SH0ES H0 measurement...\")\n",
    "    try:\n",
    "        data = {\n",
    "            'parameter': ['H0'],\n",
    "            'value': [73.04],\n",
    "            'error': [1.04],\n",
    "            'unit': ['km/s/Mpc'],\n",
    "            'source': ['SH0ES 2023']\n",
    "        }\n",
    "        df = pd.DataFrame(data)\n",
    "        df.to_csv(DATA_DIR / 'sh0es_hubble.csv', index=False)\n",
    "        print(\"✓ SH0ES data saved\")\n",
    "        return df\n",
    "    except Exception as e:\n",
    "        print(f\"Error fetching SH0ES data: {e}\")\n",
    "        return None"
   ]
  },
  {
   "cell_type": "code",
   "execution_count": null,
   "id": "261562d6",
   "metadata": {},
   "outputs": [],
   "source": [
    "def get_des_cosmology():\n",
    "    \"\"\"Get Dark Energy Survey Year 3 cosmology results.\"\"\"\n",
    "    print(\"Fetching DES Y3 cosmology...\")\n",
    "    try:\n",
    "        data = {\n",
    "            'parameter': ['S8', 'Omega_m', 'sigma_8'],\n",
    "            'value': [0.776, 0.279, 0.776],\n",
    "            'error': [0.017, 0.01, 0.017],\n",
    "            'unit': ['1', '1', '1'],\n",
    "            'source': ['DES Y3'] * 3\n",
    "        }\n",
    "        df = pd.DataFrame(data)\n",
    "        df.to_csv(DATA_DIR / 'des_cosmology.csv', index=False)\n",
    "        print(\"✓ DES data saved\")\n",
    "        return df\n",
    "    except Exception as e:\n",
    "        print(f\"Error fetching DES data: {e}\")\n",
    "        return None"
   ]
  },
  {
   "cell_type": "code",
   "execution_count": null,
   "id": "35874ec9",
   "metadata": {},
   "outputs": [],
   "source": [
    "def get_act_cmb():\n",
    "    \"\"\"Get Atacama Cosmology Telescope CMB results.\"\"\"\n",
    "    print(\"Fetching ACT CMB data...\")\n",
    "    try:\n",
    "        data = {\n",
    "            'parameter': ['H0', 'Omega_m', 'sigma_8', 'S8'],\n",
    "            'value': [67.9, 0.308, 0.811, 0.840],\n",
    "            'error': [1.5, 0.012, 0.023, 0.018],\n",
    "            'unit': ['km/s/Mpc', '1', '1', '1'],\n",
    "            'source': ['ACT DR4'] * 4\n",
    "        }\n",
    "        df = pd.DataFrame(data)\n",
    "        df.to_csv(DATA_DIR / 'act_cmb.csv', index=False)\n",
    "        print(\"✓ ACT data saved\")\n",
    "        return df\n",
    "    except Exception as e:\n",
    "        print(f\"Error fetching ACT data: {e}\")\n",
    "        return None"
   ]
  },
  {
   "cell_type": "code",
   "execution_count": null,
   "id": "fd6ad945",
   "metadata": {},
   "outputs": [],
   "source": [
    "def combine_all_data():\n",
    "    \"\"\"Combine all datasets into a single file.\"\"\"\n",
    "    print(\"Combining all datasets...\")\n",
    "    try:\n",
    "        # List all CSV files in raw data directory\n",
    "        csv_files = list(DATA_DIR.glob('*.csv'))\n",
    "        dfs = []\n",
    "        \n",
    "        for file in csv_files:\n",
    "            if file.name not in ['combined_cosmology.csv']:\n",
    "                df = pd.read_csv(file)\n",
    "                dfs.append(df)\n",
    "        \n",
    "        if dfs:\n",
    "            combined_df = pd.concat(dfs, ignore_index=True)\n",
    "            combined_df['timestamp'] = datetime.now().strftime('%Y-%m-%d %H:%M:%S')\n",
    "            combined_df.to_csv(DATA_DIR / 'combined_cosmology.csv', index=False)\n",
    "            print(\"✓ Combined data saved\")\n",
    "            return combined_df\n",
    "        return None\n",
    "    except Exception as e:\n",
    "        print(f\"Error combining data: {e}\")\n",
    "        return None"
   ]
  },
  {
   "cell_type": "code",
   "execution_count": null,
   "id": "7773c30b",
   "metadata": {},
   "outputs": [],
   "source": [
    "def main():\n",
    "    \"\"\"Main function to run all scrapers.\"\"\"\n",
    "    print(\"Starting astronomy data collection...\")\n",
    "    \n",
    "    # Run all data collection functions\n",
    "    get_planck_cosmology()\n",
    "    get_sh0es_hubble()\n",
    "    get_des_cosmology()\n",
    "    get_act_cmb()\n",
    "    \n",
    "    # Combine all data\n",
    "    combined = combine_all_data()\n",
    "    \n",
    "    if combined is not None:\n",
    "        print(\"\\nSummary of collected data:\")\n",
    "        print(combined[['parameter', 'value', 'error', 'source']].to_string(index=False))\n",
    "    \n",
    "    print(\"\\nData collection complete!\")\n",
    "\n",
    "if __name__ == \"__main__\":\n",
    "    main()\n"
   ]
  }
 ],
 "metadata": {
  "kernelspec": {
   "display_name": ".venv",
   "language": "python",
   "name": "python3"
  },
  "language_info": {
   "name": "python",
   "version": "3.13.2"
  }
 },
 "nbformat": 4,
 "nbformat_minor": 5
}
